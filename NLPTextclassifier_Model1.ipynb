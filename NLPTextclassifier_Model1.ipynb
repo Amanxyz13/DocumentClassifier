{
 "cells": [
  {
   "cell_type": "code",
   "execution_count": 2,
   "id": "f4ac7de9",
   "metadata": {},
   "outputs": [],
   "source": [
    "import pandas as pd\n",
    "from sklearn.datasets import load_files\n",
    "import numpy as np "
   ]
  },
  {
   "cell_type": "code",
   "execution_count": 50,
   "id": "71359db7",
   "metadata": {},
   "outputs": [],
   "source": [
    "# loading the files from the folder into dataset\n",
    "dataset = load_files(container_path=r\"D:\\Jupyter notebook\\nlp data\\image_to_text\",encoding ='Windows-1252') \n",
    "dataset.target_names"
   ]
  },
  {
   "cell_type": "code",
   "execution_count": 36,
   "id": "908bbac8",
   "metadata": {},
   "outputs": [
    {
     "data": {
      "text/plain": [
       "['Pharmacy', 'Post', 'pre']"
      ]
     },
     "execution_count": 36,
     "metadata": {},
     "output_type": "execute_result"
    }
   ],
   "source": [
    "#name of target values\n",
    "dataset.target_names"
   ]
  },
  {
   "cell_type": "code",
   "execution_count": 93,
   "id": "7d2eb19c",
   "metadata": {},
   "outputs": [
    {
     "data": {
      "text/plain": [
       "138"
      ]
     },
     "execution_count": 93,
     "metadata": {},
     "output_type": "execute_result"
    }
   ],
   "source": [
    "#total dataset size\n",
    "dataset.filenames.shape[0]"
   ]
  },
  {
   "cell_type": "code",
   "execution_count": 72,
   "id": "9126a8ee",
   "metadata": {},
   "outputs": [],
   "source": [
    "#loadng the value into dataframe\n",
    "data = np.c_[dataset.data, dataset.target]\n",
    "Doc_data= pd.DataFrame(data,columns=['Data','Target'])"
   ]
  },
  {
   "cell_type": "code",
   "execution_count": 60,
   "id": "a57a41f4",
   "metadata": {},
   "outputs": [],
   "source": [
    "new_data = {0:'Pharmacy',1:\"Post\",2:\"Pre\"}"
   ]
  },
  {
   "cell_type": "code",
   "execution_count": 82,
   "id": "aa7c8c42",
   "metadata": {},
   "outputs": [],
   "source": [
    "#converting srtr to \n",
    "Doc_data['Target']= Doc_data['Target'].astype('int')"
   ]
  },
  {
   "cell_type": "code",
   "execution_count": 87,
   "id": "9f0d96c6",
   "metadata": {},
   "outputs": [
    {
     "data": {
      "text/plain": [
       "0      0\n",
       "1      1\n",
       "2      0\n",
       "3      2\n",
       "4      0\n",
       "      ..\n",
       "133    0\n",
       "134    2\n",
       "135    1\n",
       "136    2\n",
       "137    1\n",
       "Name: Target, Length: 138, dtype: int32"
      ]
     },
     "execution_count": 87,
     "metadata": {},
     "output_type": "execute_result"
    }
   ],
   "source": [
    "Doc_data['Target']"
   ]
  },
  {
   "cell_type": "code",
   "execution_count": 89,
   "id": "0da5b225",
   "metadata": {},
   "outputs": [],
   "source": [
    "Doc_data['Target_values']=Doc_data['Target'].map(new_data)"
   ]
  },
  {
   "cell_type": "code",
   "execution_count": 98,
   "id": "647e7a71",
   "metadata": {},
   "outputs": [
    {
     "data": {
      "text/plain": [
       "'D:\\\\Jupyter notebook\\\\pdf\\\\Post\\\\9102111118520 (1).pdf(Page 1 of 13)\\r\\n\\r\\n \\r\\n\\r\\nTHIS DOCUMENT WAS RECEIVED IN\\r\\n\\r\\nAPPEAL PO BOX 30432 or FAX 801-938-2100, SLC, UT-RMO WEST\\r\\n\\r\\nFAX\\r\\n\\r\\n04/21/2021 1555\\r\\n\\r\\nUnited Health Group - West, Central and Cirrus RMO\\r\\nOperated by Firstsource Solutions\\r\\n1355 South 4700 West\\r\\nSalt Lake City, UT 84104\\r\\n\\r\\nOm MmeOrFrere rere NY Cre LO\\r\\n\\x0cD:\\\\Jupyter notebook\\\\pdf\\\\Post\\\\9102111118520 (1).pdf      \\r\\n\\r\\nfi|||_ A UnitedHealth Group Company\\r\\n\\r\\nRECEIVED\\r\\nVIA\\r\\nFAX/FTP\\r\\n\\r\\nBEST COPY AVAILABLE\\r\\n\\r\\nDO NOT Return to the RMO for\\r\\nRescan\\r\\n\\x0cD:\\\\Jupyter notebook\\\\pdf\\\\Post\\\\9102111118520 (1).pdf(Page 3 of 13)\\r\\n\\r\\n \\r\\n\\r\\nTo:\\r\\nCompany:\\r\\nFax:\\r\\nPhone:\\r\\n\\r\\nFrom:\\r\\nFax:\\r\\nPhone:\\r\\nE-mail:\\r\\n\\r\\nNOTES:\\r\\n\\r\\nFrom: 81772357690 Page: 1/11 Date: 4/21/2024 3:55:05 PM\\r\\n\\r\\nUNITED HEALTHCARE\\r\\nUNITED HEALTHCARE\\r\\n\\r\\n(801) 938-2100\\r\\n877-842-3210\\r\\n\\r\\nTo: UHC Appeal Dept - Addendum to faxed Appeal on 4/20/2021\\r\\n\\r\\nAcet 1D:972487170\\r\\n\\r\\nCONFIDENTIALITY NOTICE:\\r\\n\\r\\nThe document accompanying this telecopy transmission contains\\r\\nconfidential information belonging to the sender that is legally\\r\\nprivdeged, The information ts intended only for the use of the\\r\\nindividual or entity named above. If you are not the intended\\r\\nrecipient or the employee or agent responsible for delivering this\\r\\ninformation to the intended recipient, you are hereby notified that\\r\\nany disclosure, copying, distribution or the taking of any action in\\r\\nreliance on the contents of this information is strictly prohibited.\\r\\n\\r\\niF YOU HAVE RECEIVED THIS FAX IN ERROR, PLEASE NOTIFY US IMMEDIATELY\\r\\nAT FHE ABOVE TELEPHONE NUMBER.\\r\\n\\r\\n \\r\\n\\r\\nDate and time of transmission: Wednesday, April 21, 2021 4:24:02 PM\\r\\nNumber of pages including this cover sheet: 11\\r\\n\\r\\nTHiS fax Was received by GF] FaxMaker fax seiver. For more information, sit: htto Awww. dfi.com\\r\\n\\r\\nCOMMOR FR RP Re YP OF LS\\r\\n\\x0cD:\\\\Jupyter notebook\\\\pdf\\\\Post\\\\9102111118520 (1).pdf(Page 4 of 13) From: 177257690 Page: 2/11 Date: 4/21/2024 3:59:05 PM\\r\\n\\r\\nsateen.\\r\\n\\r\\n! \\'\\r\\nNi\\r\\naw a uss sate we\\r\\n\\' 3 *\\r\\n\\r\\nva\\r\\nHon)\\r\\nYOR\\r\\ni\\r\\nae\\r\\nate\\r\\nate\\r\\nae ie, ™ er re\\r\\ni sacs git ot\\r\\nate pr rt Py\\r\\ni vy on\\r\\nMG ay rel\\r\\nK) ‘A Sent\\r\\nys . sete\\r\\nae fit fay\\r\\nue te hens\\r\\nae hen fata\\r\\nen “er Chis\\r\\n\\r\\n \\r\\n\\r\\nApril 21, 2021\\r\\nUnited Healthcare Appeal Dept\\r\\nP.O. Box 30559\\r\\nSalt Lake City, Utah 84130-0559\\r\\n(877) 842-3210\\r\\nFax: (801) 9382100 Patient: Sain, James Alan\\r\\n\\r\\nMember ID: 972487170\\r\\nDoB: 02/19/1956\\r\\n\\r\\nClaim# CE40734480\\r\\nDoS: 08/11/2020\\r\\n\\r\\nPatient [D: 000106179134\\r\\n\\r\\nDear Claims Appeal Processor,\\r\\n\\r\\nADDENDUM to the appeal that was faxed to UHC yesterday, 4/20/2021.\\r\\n\\r\\nWe received a copy of the UHC letter sent to Dr. Kline in Oct 2020. The UHC representative faxed this to\\r\\nme yesterday afternoon,\\r\\n\\r\\nAccording to the letter, the patient NAME is the problem. As stated in our appeal letter, the patient\\r\\nregistered with our clinic using his middle name of Alan. VHC showed patient name as Fames Sain. Your\\r\\nmember has informed UHC of his name and the use of his middle name of “Atfan”.\\r\\n\\r\\nWe changed the name ancl refiled claims as James Alan Sain. However, according to this October letter, the\\r\\nmedical records have his \"invalid\" middle name of Alan.\\r\\n\\r\\nThe only legal thing that could be done by the provider was to have an addendum put on Dr. Kline’ s\\r\\ndictation. See copy. Also attached 1s the test card dosing which has name correction. Legally, this is all that\\r\\ncan be done.\\r\\n\\r\\nIf UHC continues to deny this claim, your member will be billed and we will file a complaint with the\\r\\nTexas Department of Insruance.\\r\\n\\r\\nSincerely,\\r\\n\\r\\nKaren Minyoara\\r\\nUNTHSC\\r\\n\\r\\nHealth Business Specialist\\r\\n(817) 201-3998\\r\\n\\r\\ncc: file, patient, ‘TDI pending\\r\\n\\r\\nTHE UNIVERSITY of NORTH TEXAS\\r\\nME ALTA SCIENCE CENTER a FORT WORTH\\r\\nTER BES PREP ONG | Boa Carin Bawig Mya. Sard Woosh, Texas FOES | unthecedu\\r\\n\\r\\nThis fax was received by GF] FaxMaker fax server. For niore information, visit, http /Avww.gficom\\r\\n\\r\\nSom in OO = Be SB RB eSB YC\\r\\n\\x0cD:\\\\Jupyter notebook\\\\pdf\\\\Post\\\\9102111118520 (1).pdf(Page 5\\r\\n\\r\\nof 13)\\r\\n\\r\\nFOPOSTO4\\r\\n\\r\\n \\r\\n\\r\\nFrom: 177257690 Page: 3/11 Date: 4/21/2024 3:55:05 PM\\r\\n\\r\\nA/A20/A2081 12:30:16 PM PAGE 1L/Q06 Pax Server\\r\\n\\r\\nX\\r\\n\\r\\nTo:\\r\\nCompany:\\r\\nFay: 9177357988\\r\\n\\r\\nPhorie:\\r\\n\\r\\nFrom:\\r\\nFax:\\r\\nPhone:\\r\\nBail:\\r\\n\\r\\nNOTES:\\r\\n\\r\\n \\r\\n\\r\\nUnauthorized interception of this facsimile could be a violation of federal and state\\r\\nlaw. We are required to safequard privileged, contidential and/or pratected health\\r\\ninformation by applicable law. The information in this document 1s for the sole use of\\r\\nthe person(s) or company named above. If this you have received this fax in error,\\r\\nplease contact us by phone immediately to arrange for return of the documents.\\r\\n\\r\\nif you have difficulty with this transmission, please contact the number above.\\r\\n\\r\\nDate and time of transmission: Tuesday, April 20, 2021 12:29:50 PM\\r\\nNumber of pages including this cover sheet: 06\\r\\n\\r\\nThis fax was received by GFI FaxMaker fax server. For more information, visit http: /Avww.gfi.com\\r\\n\\r\\nCOMMOR FR RP Re YP OF LS\\r\\n\\x0cD:\\\\Jupyter notebook\\\\pdf\\\\Post\\\\9102111118520 (1).pdf(Page 6\\r\\n\\r\\nof\\r\\n\\r\\n13) From: 177257690 Page: 4/11 Date: 4/21/2024 3:55:05 PM\\r\\n\\r\\nFOPOS794 4/20/2021 12:30:16 PM PAGE 2/Q06 Fax Server\\r\\n\\r\\nAtth to: KAREN MM,\\r\\n\\r\\nThis fax was received by GF] FaxMaker fax server, For more information, visit: http:/Avww. gfi.comn\\r\\n\\r\\nSom in OO = Be SB RB eSB YC\\r\\n\\x0cD:\\\\Jupyter notebook\\\\pdf\\\\Post\\\\9102111118520 (1).pdf(Page 7\\r\\n\\r\\nof 13) From: 81772357690 Page: 5/11 Date: 4/21/2024 3:55:06 PM\\r\\n\\r\\nFOPOS794 4/20/2021 12:30:16 PM PAGE 3/006 Fax Server\\r\\n\\r\\nW138 - VA Gees\\r\\n\\r\\nOpt\\r\\nPC) Box 105067\\r\\nAtlanta, GA 30348\\r\\n\\r\\n \\r\\n\\r\\nOctaber 5, 2020\\r\\n\\r\\nGEOFFREY KLINE\\r\\nPK) BLOX 99335\\r\\nFORT WORTH TX 76799-0335\\r\\n\\r\\nSU OTE TOT boo Gu WT LO LOTT We LO\\r\\n\\r\\nRE; Patient Name: JAMES SAIN\\r\\nPolicy #: 730554\\r\\nGroup Name: AVIATION TECHNICAL SERVIOES\\r\\n08/11/2020\\r\\nDate(s) of Service: to\\r\\n08/11/2020\\r\\nFite #: 28439416\\r\\n\\r\\nDear GEOFFREY KLINE:\\r\\n\\r\\nUnitedlealthcare has received and reviewed your claim and supporting documentation for reimbursement on\\r\\n\\r\\nthe above date(s) of service under the member\\'s benefit plan.\\r\\n\\r\\nUnitedHealthcare pays for required services and supplies provided for tha purnose of preventing, diagnosing or\\r\\ntreating a sickness, injury, disease or symptoms. The plan authorizes UnitedHealthcare to determine whether\\r\\n\\r\\nbenefits are payable accarding to reimbursement policies and the terns, conditions and exclusions of your\\r\\npatient\\'s Summary Plan Description.\\r\\n\\r\\nAfter earaful review of the submittad documentation by our vendor, Optum, coverage was all or partially denied\\r\\n\\r\\nbased on the rationale detailed below:\\r\\n\\r\\nBased on the information submitted and the patient\\'s health benefit plan, we determined that the services are\\r\\nnot covered because ihe medical documentation does not meat the required slements for billing the sarvice.\\r\\n\\r\\nCPT Claim Denial\\r\\n\\r\\nDate Gode Mod GPT Description Araourt Oode Raason\\r\\n\\r\\n08/11/2020) 98018 OV STRS TST XEASB/OR Charges supmittad show\\r\\n\\r\\nto RX CONT ECG l&R ONLY an ineorrest date of\\r\\n08/4 1/2020 service and/or patient\\r\\nname,\\r\\n\\r\\n \\r\\n\\r\\n \\r\\n\\r\\nGlair/Gading Lagi¢\\r\\n\\r\\nNot supported. The medical racords submitted don\\'t match tne name indicated on the claim form. This\\r\\ndiscrapariay rieans we cari\\'t verify the validity and accuracy of the claim.\\r\\n\\r\\nCPT\\r\\n(Ode\\r\\n\\r\\nGlan Denial\\r\\n\\r\\naaso\\r\\nAmat Code Reason\\r\\n\\r\\nDate Mod CPT Description\\r\\n\\r\\nel regular informalion by email od pragran and product changes.\\r\\nSign up taday for the UnitedHealthcae Network Bulletin at UnitedHealthcareOnli 1e-artiaiinreaws. corr,\\r\\n\\r\\nThis tax was received by GFI FaxMaker fax server. For more information, visit: http:/Awww.gfi.com\\r\\n\\r\\nUnitedHealtheare’\\r\\n\\r\\n \\r\\n\\r\\n1\\r\\n\\r\\n_\\r\\nFF\\r\\n\\r\\niNS580 10202082\\r\\n\\r\\na\\r\\n\\r\\n \\r\\n\\r\\nVersion 15.0\\r\\n\\r\\n \\r\\n\\r\\nCGOMmMimém Oe SB eB eB eS YO FO\\r\\n\\x0cD:\\\\Jupyter notebook\\\\pdf\\\\Post\\\\9102111118520 (1).pdf(Page 8\\r\\n\\r\\n3734\\r\\n\\r\\n \\r\\n\\r\\n \\r\\n\\r\\n \\r\\n\\r\\n  \\r\\n\\r\\n \\r\\n\\r\\n \\r\\n\\r\\n \\r\\n\\r\\n \\r\\n\\r\\n \\r\\n\\r\\n \\r\\n\\r\\nof 13) From: 8177357690 Page: 6/11 Date: 4/21/2024 3:59:06 PM\\r\\nFSPOS7S4 4/20/2021 12:30:16 PM PAGE 4/Q0G Fak Server\\r\\nOpturr\\r\\nPO Box 108067 7\\r\\nAtlanta, GA 30348 spn ade oy at LT eye Fas dea ara oy poy”\\r\\n7 UnitedHealthcare\\r\\n08/11/2020) 78452 MYOCARDIAL SPEOT $148,085 Charges submitted show\\r\\nMULTIPLE STUDIES an incorrect date of\\r\\nservice and/or patient\\r\\nname,\\r\\nOl Tat@rece| lara merelle\\r\\nNot supported. The medical records submitted don\\'t match tha name indicated on the claim form. This\\r\\ndiscrepancy meas we can’t verify the validity and accuracy of the claim.\\r\\n- GPT : err Clair Denial mean\\r\\nDate Code Mod CPT Description Amount Cade Reason\\r\\n08/41/2020, 93016 GV STRS TST XEAS&/OR $144.00; VD |See EOB/FRA\\r\\nto RX CONT ECG W/SI&R\\r\\nO8/ 1 1/2020\\r\\nClarn/Coding Lagia\\r\\nThis service line submitted as the global service will be racoded to the professional and technical component\\r\\n«as Claim Denia |\\r\\nMod GPT Description Amount Oode Reason\\r\\nO84 1/2020 5 TGC [MYOCARDIAL SPECT Charges submittad show\\r\\nto MULTIPLE STUDIES an incorrect date of\\r\\n08/11/2020 service and/or patient\\r\\nname.\\r\\nClaim/ading Logic\\r\\nNot supported, The medical records submitted dont match the name indicated on the claim form. This\\r\\ndiscrapancy means wé can\\'t verify the validity and accuracy of the claim.\\r\\n«as Claim Denial |\\r\\nGPT Description Amourt Code Reason\\r\\n08/41/2020) 93017 CV STRS TST XERS&/OR Charges submitted show\\r\\nto RX CONT ECG TROG an incorrect date of\\r\\n08/4 1/2020 ONLY serviee and/or patient\\r\\nname.\\r\\nClain/Cading Lagi¢\\r\\nNot supported. The medical recards submitted don\\'t match the name indicated an the claim form. This\\r\\ndiscrepancy means we can\\'t verify the validity and accuracy of the claim.\\r\\n| CPT ets Claim Denial _\\r\\nBF) Code Mod GPT Description Amouril Code Reason\\r\\n08/41/2020) AVS02 TEGHNETM TG 99M $1000.00) { Charges suomitted show\\r\\nTETROFOSMN UNT an incorrect date of\\r\\nservice and/or patient\\r\\nname.\\r\\nGlaim/Cading Lagic\\r\\nNot supported. The medical records submitted don\\'t match the name indicated on the claim form. This\\r\\ndiscrepancy means wa cart varify the validity and accuracy of tha claim, Therefare billed service and units\\r\\ncannot be verified.\\r\\nGel regular informalian by email eo pragramn and product changes.\\r\\nSign up today tor the UnitedHealthca’é Network Bulletin at UnitedHealtheareQnli1e-emaiinews. corr,\\r\\nOf4; ARS\\r\\n\\r\\n   \\r\\n\\r\\n \\r\\n\\r\\n \\r\\n\\r\\n \\r\\n\\r\\nLN5601008208 7831\\r\\n\\r\\nVersion 15.0\\r\\n\\r\\n \\r\\n\\r\\nCOMMOR FR RP Re YP OF LS\\r\\n\\x0cD:\\\\Jupyter notebook\\\\pdf\\\\Post\\\\9102111118520 (1).pdf(Page 9 of 13) From: 81772357690 Page: 7/11 Date: 4/21/2024 3:59:06 PM\\r\\n\\r\\nFOPOS794 4/20/2021 12:30:16 PM PAGE 0/Q0G Fax Server\\r\\n\\r\\nOpturr\\r\\nPO Box 105067\\r\\nAtlanta, GA 30348\\r\\n\\r\\nUnitedHealthcare\\r\\n\\r\\n \\r\\n\\r\\nCPT Claim Derg\\r\\n\\r\\nCode orl Description Amount Code Reason\\r\\nINFUSION NORMAL, ! These charges are\\r\\nSALINE considered an integral\\r\\npart of the primary\\r\\nseaman procedure and not eligible\\r\\n\\r\\nfor separate\\r\\nreirriburserrient.\\r\\n\\r\\n \\r\\n\\r\\n \\r\\n\\r\\nNot supported, The fluid used to administer chemotherapy and/or other complex drugs is considered\\r\\nincidental hydration and is not separately reported. in addition, The medical records submitted don\\'t match\\r\\nthe nama indicated on the claim farm. This discrepancy means we can\\'t varify the validity and accuracy of\\r\\n\\r\\nGlan Denial\\r\\nArriaurtt Code\\r\\n\\r\\nMYOCARDIAL SPECT £987.00) VD |See EOB/PRA\\r\\nMULTIPLE STU lis\\r\\n\\r\\nMod OPT Dessription Reason\\r\\n\\r\\nThis service tine submitted as the global service will be recoded to the professional and technical component\\r\\nlines.\\r\\n\\r\\nClann Denial\\r\\nrNaaeeial Wore l=\\r\\nCV STRS TST XERS&/OR Charges submitted show\\r\\nRX CONT &CG WAD IRR an incorrect date of\\r\\n\\r\\nservice and/or patient\\r\\nname.\\r\\n\\r\\nMad GPT Description Reason\\r\\n\\r\\n \\r\\n\\r\\n \\r\\n\\r\\nOE Tat @reellaem meelle\\r\\nNot supported. The medical records submitted dart matoh tia name indicated or the claim form. This\\r\\ndiscrepancy means we can\\'t verify the validity and accuracy of the claim,\\r\\n\\r\\nThis fatter cantains the outeame af the Qptum raview howavar, your Provider Heamittange Advice will provide\\r\\nthe tinal determination of your claim.\\r\\n\\r\\nbenefits.\\r\\n\\r\\nYou may initiate an appeal by following the procedure outlined in this notice. If you choase to submit a\\r\\ncorrected claim instead of filing an appeal, you may do so by submitting the corrected claim to the address\\r\\nlisted on the back of the patient\\'s medical identification card. Do not submit corrected claim forms with appeal\\r\\nraquests, Failure to send a corrected claim to the correct address may result in a delay of processing,\\r\\n\\r\\nSubmilting an appeal\\r\\nTo file an apoaal, please submit the requested intonation within the timetrame specified by the merriber\\'s\\r\\n\\r\\nSummary Plan Description (available to members) after receipt of this notice. The following information is\\r\\nhelpful to us when reviewing an appeal:\\r\\n\\r\\nGel regular informalion Oy email on program and product changes,\\r\\nSign up today for the UnitedHealticae® Network Bullétin at UnitedHealtheareQnli 1e-arnaiiews. corr,\\r\\n\\r\\n3°34 3/4; 9295\\r\\n\\r\\nThis fax was received by GFI FaxMaker fax server. For more information, visit: http: /Awww.gfi.com\\r\\n\\r\\n \\r\\n\\r\\nLN5&01008206 7831\\r\\n\\r\\n \\r\\n\\r\\nVersion 15.0\\r\\n\\r\\n—————————\\r\\n—\\r\\nEE\\r\\nMiiiaeeennrerennsrereaaaiiiiil\\r\\nEEE\\r\\nAAA AAA AAA AAAS)\\r\\nent\\r\\na\\r\\nDeel\\r\\n— ee\\r\\n— Ee\\r\\na\\r\\nEEE\\r\\nLs\\r\\n—\\r\\nes aa rad aasananacaasiciial\\r\\nemp paeieldstei—eteipumt mm\\r\\n——eeeee\\r\\nAHA ena abeetebdy\\r\\nbn |\\r\\nNNN CAT\\r\\n\\r\\n \\r\\n\\r\\nCOMMOR FR RP Re YP OF LS\\r\\n\\x0cD:\\\\Jupyter notebook\\\\pdf\\\\Post\\\\9102111118520 (1).pdf(Page 10 of 13) From: 8177357690 = =Page: 8/11 = Date: 4/21/2027 3:55:06 PM\\r\\n\\r\\nFOPOS794 4/20/2021 12:30:16 PM PAGE 6/006 Fax Server\\r\\n\\r\\nOpture\\r\\nPO Box 105067\\r\\nAtlanta, GA $0648\\r\\n\\r\\nUnitediHealthcare\\r\\n\\r\\n \\r\\n\\r\\nA written appeal request asking us to reconsider the decision\\r\\n\\r\\nThe specific coverage decision you would like us to review\\r\\n\\r\\nAn explanation of why the requested service should be reconsiderad for coverage\\r\\nAny additional information that supports your position\\r\\n\\r\\nA copy of this fetter\\r\\n\\r\\n¢es @ @ a\\r\\n\\r\\nYou may supply additional information witn your appeal. You may request copies {free of charge) of\\r\\ninformation relevarit to your clair by contacting us at the below address. if you appeal, we will coriplete our\\r\\nraview no later than 30 days or as otherwise required by stata or federal law after receiving your request for\\r\\nraview. Upon completion of our internal appeal review, if we continue to deny the payment, coverage, or\\r\\nsérviog requested or you do not receive a timely decision, yau may be abla to request an external review of\\r\\nyour claim by an independent third party. woo would review the deniai and issue a final decision.\\r\\n\\r\\nHT\\r\\n\\r\\niN58010202087831\\r\\n\\r\\n \\r\\n\\r\\nFiease submit the above information te the following address:\\r\\n\\r\\n \\r\\n\\r\\nUnitedHealthcare Appeals Unit\\r\\nP.O. Box 30559\\r\\nSalt Lake City, Utah 84130\\r\\n\\r\\nAvailability of Consumer Assistance/Ombudsman Services\\r\\n\\r\\nThera are additional rasources available to halo members understand the appeals process. If members have\\r\\nquestions about appeal rights, an adverse benefit determination, or for assistance, they can contact the\\r\\nEmployee Benefits Seaurity Administration at 866-444-E BSA O272). Your state consumer assistance program\\r\\nmay alsa be able to assist members. Your patient may also cansult the attacned sheet included in their capy af\\r\\nthis letter for the name and telephone number of various state consurrier agsgistance programs. You may have\\r\\nne right to file a civil action under ERISA if all raguired raviews of your claims have been completed.\\r\\n\\r\\nThank you for the care you provide to your patients whe are Unitedhlealthcare members.\\r\\n\\r\\nSincerely,\\r\\n\\r\\nOpturri Review Team\\r\\n\\r\\nAA\\r\\n\\r\\n \\r\\n\\r\\nGel raguiar information Oy email eo pragram and product changes,\\r\\nSign up today for the UnitedHealthcare Network Bullatin at UnitedHealthcareGnliqe-ermaiitews. carr,\\r\\n\\r\\nS24 4/4; 4297\\r\\n\\r\\nCOMMOR FR RP Re YP OF LS\\r\\n\\r\\nVersion 15.0\\r\\n\\x0cD:\\\\Jupyter notebook\\\\pdf\\\\Post\\\\9102111118520 (1).pdf7 25768 ye: OF 11 Date: 4/2172024 3:58:06 PM\\r\\n(Page 11 of 13) From: 8177387690 Page: Of at | mee\\r\\n\\r\\n   \\r\\n\\r\\nExam Date: 08-14.72020\\r\\n\\r\\nOrdering Physician: GEOFFREY KLINE DO\\r\\n855 MONTGOMERY ST\\r\\neT. WORTH, TX 76107\\r\\n\\r\\nRE: SAIN, ALAN Gender: Male\\r\\nDATE OF BIRTH: 02-19-1956 Height: 71 in Weight: 258.00 Ibs BMI: 35.98\\r\\n\\r\\nTEST PERFORMED:\\r\\nCxercise myocardial perfusion stress test using l-day Bruce pretoco!\\r\\n\\r\\nINDICATION FOR PROCEDURE:\\r\\nCAD (125.10), Stented Coronary Artery {295.5},\\r\\n\\r\\nRESCRIPTION OF PROCEDURE:\\r\\n\\r\\nPrior to the stress test, the patient was given 12.61 mCi of Te99m Myoview intravenously at\\r\\nrest and cardiac SPECT imaging was performed 30-60 minutes later, The patient then exercised\\r\\nfor a total of 7 minutes on a standard Bruce protocol reaching a wark level of 10.16 METS.\\r\\nResting heart rate was 85 bom. During exertion, the patient reached 148 bom or 95% of\\r\\nmaximum predicted heart rate. Resting bload pressure was 131/79 mimbhg. At peak exercise,\\r\\nthe blaod pressure was 147/82 mmHg. The exercise was stopped secondary ta fatigue, patient\\r\\nrequest, At peak exercise, 37.50 mCi of TeGam Myoview was injected intravenc usiy and\\r\\ncardiac gated SPECT imaging was performed 30-60 minutes later.\\r\\n\\r\\nECG FINDINGS:\\r\\n\\r\\nThere was @ narmal physiologic response during exertion, The patient had during testing.\\r\\nTarget heart rate was achiaved. The patient had exercise capacity. Baseline ECG reveals sinus\\r\\nrhythm with a rate of 85 bom and NS T-wave inversions, During exertion, there 1.0 mm was\\r\\nharizontal ST depression in the anterolateral leads.\\r\\n\\r\\nNUCLEAR IMAGING FINDINGS:\\r\\n\\r\\nSeperate review of the dymanic gated displays reveal nermal wall motion with an estimated EF\\r\\nof 57%, Small moderate reversible defect involving the apical, apical inferior sagmentts). No\\r\\nother relative perfusion defects noted.\\r\\n\\r\\nbly\\r\\ntial\\r\\n\\r\\n(OF\\r\\n\"\\r\\n\\r\\nhat\\r\\nsci Sak\\r\\n\\r\\nO63 Montgomery Streot * Porth Worth, Pex, 7ELOF 2599 © S998 ea sax BVI TSS Shall IRD Rowe + tA BIA P 3S BOS roan * toyelick Pate 2\\r\\nArt EROAAMfrmativn Author Kem erasrieye|\\r\\n\\r\\nThis fax was received by GFI FaxMaker fax server. For more information, visit: Attp:/Amaaw. gffi.com\\r\\n\\r\\nCMmh Oe ee ee bY OF\\r\\n\\x0cD:\\\\Jupyter notebook\\\\pdf\\\\Post\\\\9102111118520 (1).pdf(Page 12\\r\\n\\r\\nFrom: 8177357890\\r\\n\\r\\n \\r\\n\\r\\nint\\r\\n\\r\\ncan ox py Shope cane ANAL Bae\\r\\n\\r\\nGeoffrey Kline, DLO.\\r\\nAssociate Professor of Medicine\\r\\nDivision of Cardiology\\r\\nDepartment of Internal Medicine\\r\\nUNT Heaith Science Center\\r\\nReport Date: OB- 12-2020\\r\\not:\\r\\n\\r\\nNEGRI\\r\\nOPER TRIG PMSA ALAN By\\r\\n\\r\\nNia orraatan: “PubieHYs Iya? Naine should read” jaihae\\r\\n\\r\\nPage: 10/11\\r\\n\\r\\n1 eee nee ann ane ee id hve bee Be REN RRNA\\r\\n\\r\\nof 13)\\r\\ni\\r\\nSAE, ALAN\\r\\nO2- 19-2 9s\\r\\nIMPRESSIONS:\\r\\n1. Abnormal ECG stress test with evidence of stress induced ischamia.\\r\\n2. Narmal wall motion with an estimated EF of BT,\\r\\n3. Perfusion is abnormal:\\r\\n4,\\r\\n\\r\\n©}\\r\\n\\r\\nBcd cree\\r\\n\\r\\nparse\\r\\n4 oe ety ‘nine red\\r\\n\\r\\nB53 Montgomery Straws © Forth Worth, Texas, FO102.260% © By 738. 2000 tax SUF 73SSAR) ARP too «Rak BY SS FBT 8 aa ong 0 nweatign Feld. 8\\r\\n\\r\\nAut BEN Ja Air rriecthe Action patty ien\\r\\n\\r\\n \\r\\n\\r\\nDate: 4/24/2021 3:55:06 PM\\r\\n\\r\\nLarios tiie, PNY A Nek AUN, eee D eee ee etre mt tern et att Te PH OCED OD er re Satie Nealon Be\\r\\n\\r\\n \\r\\n\\r\\nSmall moderate ischemia involving the apical, apical inferior segment{s),\\r\\n\\r\\nThis fax was received by GFI FaxMaker fax server. For more information, visit: http: /Awnaw,. gf com\\r\\n\\r\\nSw tin CO = = Se SB SB VY SC =\\r\\n\\x0cD:\\\\Jupyter notebook\\\\pdf\\\\Post\\\\9102111118520 (1).pdf(Page 13 of 13) From: 8177357690 Page: 11/11 ate: 4/24/2021 3:55:06 PM\\r\\n\\r\\nUniversity of North Texas Health Science Center\\r\\n\\r\\n-  # Nuclear Medicine Department\\r\\n| FETS 8 855 Montgomery Street PCC 3rd Floor, Fort Worth, Tx 79107\\r\\ny ihe\\r\\n\\r\\nnae Lic, FLOGT23\\r\\n\\r\\nasapeiimnimeamnaam sate a ~~ ~ ——\\r\\n\\r\\n— 21, 2021\\r\\n\\r\\n \\r\\n\\r\\nFilecard Patient Report\\r\\n\\r\\n \\r\\n\\r\\n \\r\\n\\r\\n \\r\\n\\r\\n \\r\\n\\r\\n \\r\\n\\r\\nComm Oe SB eS eS eS YOY\\r\\n\\r\\n“Nano \"ERIN, GAMES ALAN ~~ Depe. F 2 GSQG0CO17 7684 Apap. Bo:\\r\\n\\r\\nb.O.8 >: 02-19-1356 Ace > 65 Yr.\\r\\n\\r\\nGat y78 be 3 Zip Coda 3 Frone 4 :\\r\\n\\r\\nbixarm Date Examiivatiog Racdwharirs Lowe (RSS Dose Act Vol / Arm Dectarts) SUIS\\r\\nAudie iAH Nemes efoto erin nhieu ne TIES RYOTE ESS PPA TT Ce  e fl\\r\\nOf P1-2020 08:20 MYOVEEW BRUCE STRE Mvyoview G29 19188 37 BY mh ty O89oind KLINE, GEOPPRI COMPLETED\\r\\nR-11-2920 O8:15 MY OV EW RES? Miyoview 2915325 12.63 aC {$8 tard KILONE, GROFF RE COMPLETED\\r\\n\\r\\ned pplaaimkpyhy pV 0 fo fo mama atte i Ned LRA yA 1 nan vm A AN i tN He Nt Hn ec Atte erie eter beeen SiD9lAntihe\\r\\n\\r\\n \\r\\n\\r\\n \\r\\n\\r\\nFUrPrrnL tetera ier mabe kareermrre errr\\r\\n\\r\\nThis tax was received by GF! FaxMaker fax server. For more information, visit: Attp:/Awww.gfi.com\\r\\n\\x0c'"
      ]
     },
     "execution_count": 98,
     "metadata": {},
     "output_type": "execute_result"
    }
   ],
   "source": [
    "regex_test=Doc_data['Data'][1]\n",
    "regex_test"
   ]
  },
  {
   "cell_type": "code",
   "execution_count": null,
   "id": "a001922d",
   "metadata": {},
   "outputs": [],
   "source": [
    "import re\n",
    "match = re.compile()"
   ]
  }
 ],
 "metadata": {
  "kernelspec": {
   "display_name": "Python 3",
   "language": "python",
   "name": "python3"
  },
  "language_info": {
   "codemirror_mode": {
    "name": "ipython",
    "version": 3
   },
   "file_extension": ".py",
   "mimetype": "text/x-python",
   "name": "python",
   "nbconvert_exporter": "python",
   "pygments_lexer": "ipython3",
   "version": "3.8.5"
  }
 },
 "nbformat": 4,
 "nbformat_minor": 5
}
